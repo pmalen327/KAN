{
 "cells": [
  {
   "cell_type": "markdown",
   "metadata": {},
   "source": [
    "# Implementation of KAN's in PyTorch"
   ]
  },
  {
   "cell_type": "markdown",
   "metadata": {},
   "source": [
    "Here we are going to explore how to implement the somewhat novel KAN architecture in PyTorch then look at the PyKan \"official\" package.\n",
    "\n",
    "We aren't going to go into too much detail of the basic theory but the paper can be found [here](https://arxiv.org/pdf/2404.19756).\n",
    "\n",
    "In contrast to MLP's, KAN's have learnable activation functions on edges and sum operations on nodes. KAN's depend on an important theorem from numerical analysis.\n",
    "\n",
    "$$\\text{Kolmogorov-Arnold Representation Theorem}$$\n",
    "$$F(x_1, x_2, \\dots, x_n) = \\sum_{j=1}^m \\psi_j \\bigg( \\sum_{i=1}^n \\phi_{ij} (x_i) \\bigg)$$\n",
    "\n",
    "In essence, this asserts that (given sufficient conditions, Hilbert space, polynomial ring etc.) a continuous multivariate function can be represented as a composition of univariate functions. The importance of this theorem cannot be overstated. After seeing use in numerical analysis, it was only a matter of time before we saw it be applied to machine learning.\n",
    "\n",
    "So what does this look like in the context of neural networks? A layer of KAN takes an input $x \\in \\mathbb{R}^n$ and applies the operator $\\phi^1 \\in \\mathbb{R}^{m\\times n}$. As this is a linear operator, it has a natural matrix representation.\n",
    "\n",
    "$$\n",
    "\\phi^1 = \n",
    "\\begin{bmatrix}\n",
    "    \\phi_{11} & \\phi_{12} & \\dots & \\phi_{1n}\\\\\n",
    "    \\phi_{21} & \\phi_{22} & \\dots & \\phi_{2n}\\\\\n",
    "    \\vdots & \\vdots & \\ddots & \\vdots\\\\\n",
    "    \\phi_{m1} & \\phi_{m2} & \\dots & \\phi_{mn}\n",
    "\\end{bmatrix}\n",
    "$$\n",
    "\n",
    "Note that each entry in $\\phi^i$ is a univariate function with respect to $x_i$."
   ]
  }
 ],
 "metadata": {
  "kernelspec": {
   "display_name": "Python 3",
   "language": "python",
   "name": "python3"
  },
  "language_info": {
   "name": "python",
   "version": "3.12.3"
  }
 },
 "nbformat": 4,
 "nbformat_minor": 2
}
